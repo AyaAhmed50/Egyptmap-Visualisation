{
 "cells": [
  {
   "cell_type": "code",
   "execution_count": 1,
   "id": "b3749c74",
   "metadata": {},
   "outputs": [],
   "source": [
    "import pyautogui\n",
    "from PIL import Image\n",
    "import cv2 as cv2\n"
   ]
  },
  {
   "cell_type": "code",
   "execution_count": 20,
   "id": "a47c8c15",
   "metadata": {},
   "outputs": [],
   "source": [
    "def Capture_Event(event, x, y, flags, params):\n",
    "\t# If the left mouse button is pressed\n",
    "\tif event == cv2.EVENT_LBUTTONDOWN:\n",
    "\t\t# Print the coordinate of the \n",
    "\t\t# clicked point\n",
    "\t\tprint(f\"({x}, {y})\")\n",
    "if __name__==\"__main__\":\n",
    "\t# Read the Image.\n",
    "\timg = cv2.imread('C:\\\\Users\\\\Administrator\\\\Desktop\\\\Visulisation\\\\project\\\\map.jpg', 1)\n",
    "\t# Show the Image\n",
    "\t#width, height = cv2.getWindowImageRect('image')[2:]\n",
    "\tresized_img = cv2.resize(img, (1600, 1200))\n",
    "\tcv2.imshow('image', resized_img)\n",
    "\t# Set the Mouse Callback function, and call\n",
    "\t# the Capture_Event function.\n",
    "\tcv2.setMouseCallback('image', Capture_Event)\n",
    "\t# Press any key to exit\n",
    "\tcv2.waitKey(0)\n",
    "\t# Destroy all the windows\n",
    "\tcv2.destroyAllWindows()"
   ]
  },
  {
   "cell_type": "code",
   "execution_count": 3,
   "id": "bc3ad338",
   "metadata": {},
   "outputs": [
    {
     "name": "stdout",
     "output_type": "stream",
     "text": [
      "Data saved: Location: Alexandria, Coordinates: (535, 178)\n",
      "Data saved: Location: Beheira, Coordinates: (620, 181)\n",
      "Data saved: Location: South Sinai, Coordinates: (1063, 349)\n",
      "Data saved: Location: North Sinai, Coordinates: (1019, 213)\n",
      "Data saved: Location: Suez, Coordinates: (880, 231)\n",
      "Data saved: Location: ismailia, Coordinates: (890, 187)\n",
      "Data saved: Location: Kafr El Sheikh, Coordinates: (698, 123)\n",
      "Data saved: Location: Port Said, Coordinates: (865, 141)\n",
      "Data saved: Location: Beni Suef, Coordinates: (783, 356)\n",
      "Data saved: Location: New Valley, Coordinates: (377, 673)\n",
      "Data saved: Location: Cairo, Coordinates: (795, 242)\n",
      "Data saved: Location: Sharqia, Coordinates: (783, 181)\n",
      "Data saved: Location: matrouh, Coordinates: (221, 270)\n",
      "Data saved: Location: Gharbia, Coordinates: (715, 161)\n",
      "Data saved: Location: Monufia, Coordinates: (705, 193)\n",
      "Data saved: Location: Luxor, Coordinates: (940, 656)\n",
      "Data saved: Location: Sohag, Coordinates: (794, 545)\n",
      "Data saved: Location: Aswan, Coordinates: (1046, 775)\n",
      "Data saved: Location: Qena, Coordinates: (804, 624)\n",
      "Data saved: Location: Red Sea, Coordinates: (999, 511)\n",
      "Data saved: Location: Faiyum, Coordinates: (604, 299)\n",
      "Data saved: Location: Dakahlia, Coordinates: (766, 146)\n",
      "Data saved: Location: Asyut, Coordinates: (686, 490)\n",
      "Data saved: Location: Damietta, Coordinates: (807, 109)\n",
      "Data saved: Location: Giza, Coordinates: (694, 241)\n",
      "Data saved: Location: Minya, Coordinates: (643, 403)\n",
      "Data saved: Location: Qalyubia, Coordinates: (743, 213)\n",
      "Data saved: Location: j, Coordinates: (935, 421)\n"
     ]
    }
   ],
   "source": [
    "import cv2\n",
    "\n",
    "def Capture_Event(event, x, y, flags, params):\n",
    "    # If the left mouse button is pressed\n",
    "    if event == cv2.EVENT_LBUTTONDOWN:\n",
    "        # Prompt the user to input the name of the location\n",
    "        location_name = input(\"Enter the name of the location: \")\n",
    "        # Save the data into a TSV file\n",
    "        with open('locations2.tsv', 'a') as file:\n",
    "            file.write(f\"{location_name}\\t{x}\\t{y}\\n\")\n",
    "        # Print confirmation message\n",
    "        print(f\"Data saved: Location: {location_name}, Coordinates: ({x}, {y})\")\n",
    "\n",
    "if __name__ == \"__main__\":\n",
    "    # Read the Image.\n",
    "    img = cv2.imread('map0.jpg', 1)\n",
    "    \n",
    "    # Resize the image\n",
    "    resized_img = cv2.resize(img, (1200, 900))\n",
    "    \n",
    "    # Show the Image\n",
    "    cv2.imshow('image', resized_img)\n",
    "    \n",
    "    # Set the Mouse Callback function, and call\n",
    "    # the Capture_Event function.\n",
    "    cv2.setMouseCallback('image', Capture_Event)\n",
    "    \n",
    "    # Press any key to exit\n",
    "    cv2.waitKey(0)\n",
    "    \n",
    "    # Destroy all the windows\n",
    "    cv2.destroyAllWindows()\n"
   ]
  }
 ],
 "metadata": {
  "kernelspec": {
   "display_name": "Python 3 (ipykernel)",
   "language": "python",
   "name": "python3"
  },
  "language_info": {
   "codemirror_mode": {
    "name": "ipython",
    "version": 3
   },
   "file_extension": ".py",
   "mimetype": "text/x-python",
   "name": "python",
   "nbconvert_exporter": "python",
   "pygments_lexer": "ipython3",
   "version": "3.11.5"
  }
 },
 "nbformat": 4,
 "nbformat_minor": 5
}
